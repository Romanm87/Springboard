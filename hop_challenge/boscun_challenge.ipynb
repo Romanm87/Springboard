{
 "cells": [
  {
   "cell_type": "code",
   "execution_count": 1,
   "metadata": {},
   "outputs": [],
   "source": [
    "import pandas as pd\n",
    "import os\n",
    "os.chdir('/home/roman/Documents/Projects/Springboard/Git/hop_challenge')"
   ]
  },
  {
   "cell_type": "code",
   "execution_count": 2,
   "metadata": {},
   "outputs": [],
   "source": [
    "data = pd.read_csv('boscun-longitudinal.csv')\n",
    "#data.info()"
   ]
  },
  {
   "cell_type": "code",
   "execution_count": 3,
   "metadata": {},
   "outputs": [],
   "source": [
    "# convert departure_odate and return_odate to day_date:\n",
    "data['departure_day_date'] = data['departure_odate'].apply(lambda x: x[-5:])\n",
    "data['return_day_date'] = data['return_odate'].apply(lambda x: x[-5:])"
   ]
  },
  {
   "cell_type": "code",
   "execution_count": 4,
   "metadata": {},
   "outputs": [],
   "source": [
    "data_grouped = data.groupby(['search_id', 'departure_day_date', 'return_day_date', 'advance'])\\\n",
    "        ['total_usd'].min()\n",
    "data_grouped = pd.DataFrame(data_grouped).reset_index()"
   ]
  },
  {
   "cell_type": "code",
   "execution_count": 17,
   "metadata": {
    "scrolled": false
   },
   "outputs": [],
   "source": [
    "df_departure_date = pd.get_dummies(data_grouped['departure_day_date'], sparse=True)\n",
    "#df_departure_date = df_departure_date.to_sparse(fill_value=0)\n",
    "df_return_date = pd.get_dummies(data_grouped['return_day_date'], sparse=True)\n",
    "#df_return_date = df_return_date.to_sparse(fill_value=0)"
   ]
  },
  {
   "cell_type": "code",
   "execution_count": 20,
   "metadata": {},
   "outputs": [],
   "source": [
    "##### Continue here\n",
    "X = pd.concat([data_grouped['advance'], df_departure_date, df_return_date], axis=1)\n",
    "#y = data[]"
   ]
  },
  {
   "cell_type": "markdown",
   "metadata": {},
   "source": [
    "* search_id: the bundle identifer\n",
    "\n",
    "* advance: days search before departure\n",
    "* departure_odate: departure date in origin TZ\n",
    "* return_odate: return date in destination TZ\n",
    "* total_usd: total fare including taxes and fees\n",
    "\n",
    "* pax_type: passenger type quoted\n",
    "* refundable: refundable fare indicator\n",
    "* validating_carrier: airline selling the ticket\n",
    "* outgoing_duration: total in minutes\n",
    "* outgoing_stops: number of stops on outbound trip\n",
    "* returning_duration: total in minutes\n",
    "* returning_stops: number of stops on return trip\n",
    "* major_carrier_id: airline delivering majority of flight time\n",
    "* total_stops: total stops for round-trip\n",
    "* available_seats: quoted availability at search time\n",
    "* lowest_cabin_class: lowest cabin class over all flights\n",
    "* highest_cabin_class: highest cabin class over all flights"
   ]
  },
  {
   "cell_type": "code",
   "execution_count": null,
   "metadata": {},
   "outputs": [],
   "source": []
  },
  {
   "cell_type": "code",
   "execution_count": null,
   "metadata": {},
   "outputs": [],
   "source": []
  },
  {
   "cell_type": "code",
   "execution_count": null,
   "metadata": {},
   "outputs": [],
   "source": []
  }
 ],
 "metadata": {
  "kernelspec": {
   "display_name": "Python 3",
   "language": "python",
   "name": "python3"
  },
  "language_info": {
   "codemirror_mode": {
    "name": "ipython",
    "version": 3
   },
   "file_extension": ".py",
   "mimetype": "text/x-python",
   "name": "python",
   "nbconvert_exporter": "python",
   "pygments_lexer": "ipython3",
   "version": "3.6.6"
  }
 },
 "nbformat": 4,
 "nbformat_minor": 2
}
