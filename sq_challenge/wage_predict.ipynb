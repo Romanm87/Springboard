{
 "cells": [
  {
   "cell_type": "code",
   "execution_count": 1,
   "metadata": {},
   "outputs": [],
   "source": [
    "import pandas as pd\n",
    "import numpy as np\n",
    "import matplotlib.pyplot as plt\n",
    "from pylab import rcParams"
   ]
  },
  {
   "cell_type": "code",
   "execution_count": 2,
   "metadata": {},
   "outputs": [
    {
     "data": {
      "text/html": [
       "<div>\n",
       "<style scoped>\n",
       "    .dataframe tbody tr th:only-of-type {\n",
       "        vertical-align: middle;\n",
       "    }\n",
       "\n",
       "    .dataframe tbody tr th {\n",
       "        vertical-align: top;\n",
       "    }\n",
       "\n",
       "    .dataframe thead th {\n",
       "        text-align: right;\n",
       "    }\n",
       "</style>\n",
       "<table border=\"1\" class=\"dataframe\">\n",
       "  <thead>\n",
       "    <tr style=\"text-align: right;\">\n",
       "      <th></th>\n",
       "      <th>age</th>\n",
       "      <th>workclass</th>\n",
       "      <th>fnlwgt</th>\n",
       "      <th>education</th>\n",
       "      <th>education-num</th>\n",
       "      <th>marital-status</th>\n",
       "      <th>occupation</th>\n",
       "      <th>relationship</th>\n",
       "      <th>race</th>\n",
       "      <th>capital-gain</th>\n",
       "      <th>capital-loss</th>\n",
       "      <th>hours-per-week</th>\n",
       "      <th>native-country</th>\n",
       "      <th>&gt;50K</th>\n",
       "      <th>Female</th>\n",
       "    </tr>\n",
       "  </thead>\n",
       "  <tbody>\n",
       "    <tr>\n",
       "      <th>0</th>\n",
       "      <td>39</td>\n",
       "      <td>State-gov</td>\n",
       "      <td>77516</td>\n",
       "      <td>Bachelors</td>\n",
       "      <td>13</td>\n",
       "      <td>Never-married</td>\n",
       "      <td>Adm-clerical</td>\n",
       "      <td>Not-in-family</td>\n",
       "      <td>White</td>\n",
       "      <td>2174</td>\n",
       "      <td>0</td>\n",
       "      <td>40</td>\n",
       "      <td>ASU</td>\n",
       "      <td>False</td>\n",
       "      <td>0</td>\n",
       "    </tr>\n",
       "    <tr>\n",
       "      <th>1</th>\n",
       "      <td>50</td>\n",
       "      <td>Self-emp-not-inc</td>\n",
       "      <td>83311</td>\n",
       "      <td>Bachelors</td>\n",
       "      <td>13</td>\n",
       "      <td>Married-civ-spouse</td>\n",
       "      <td>Exec-managerial</td>\n",
       "      <td>Husband</td>\n",
       "      <td>White</td>\n",
       "      <td>0</td>\n",
       "      <td>0</td>\n",
       "      <td>13</td>\n",
       "      <td>setatS-detinU</td>\n",
       "      <td>False</td>\n",
       "      <td>0</td>\n",
       "    </tr>\n",
       "    <tr>\n",
       "      <th>2</th>\n",
       "      <td>38</td>\n",
       "      <td>Private</td>\n",
       "      <td>215646</td>\n",
       "      <td>HS-grad</td>\n",
       "      <td>9</td>\n",
       "      <td>Divorced</td>\n",
       "      <td>Handlers-cleaners</td>\n",
       "      <td>Not-in-family</td>\n",
       "      <td>White</td>\n",
       "      <td>0</td>\n",
       "      <td>0</td>\n",
       "      <td>40</td>\n",
       "      <td>setatS-detinU</td>\n",
       "      <td>False</td>\n",
       "      <td>0</td>\n",
       "    </tr>\n",
       "    <tr>\n",
       "      <th>3</th>\n",
       "      <td>53</td>\n",
       "      <td>Private</td>\n",
       "      <td>234721</td>\n",
       "      <td>11th</td>\n",
       "      <td>7</td>\n",
       "      <td>Married-civ-spouse</td>\n",
       "      <td>Handlers-cleaners</td>\n",
       "      <td>Husband</td>\n",
       "      <td>Black</td>\n",
       "      <td>0</td>\n",
       "      <td>0</td>\n",
       "      <td>40</td>\n",
       "      <td>ASU</td>\n",
       "      <td>False</td>\n",
       "      <td>0</td>\n",
       "    </tr>\n",
       "    <tr>\n",
       "      <th>4</th>\n",
       "      <td>28</td>\n",
       "      <td>Private</td>\n",
       "      <td>338409</td>\n",
       "      <td>Bachelors</td>\n",
       "      <td>13</td>\n",
       "      <td>Married-civ-spouse</td>\n",
       "      <td>Prof-specialty</td>\n",
       "      <td>Wife</td>\n",
       "      <td>Black</td>\n",
       "      <td>0</td>\n",
       "      <td>0</td>\n",
       "      <td>40</td>\n",
       "      <td>ASU</td>\n",
       "      <td>False</td>\n",
       "      <td>1</td>\n",
       "    </tr>\n",
       "  </tbody>\n",
       "</table>\n",
       "</div>"
      ],
      "text/plain": [
       "   age         workclass  fnlwgt  education  education-num  \\\n",
       "0   39         State-gov   77516  Bachelors             13   \n",
       "1   50  Self-emp-not-inc   83311  Bachelors             13   \n",
       "2   38           Private  215646    HS-grad              9   \n",
       "3   53           Private  234721       11th              7   \n",
       "4   28           Private  338409  Bachelors             13   \n",
       "\n",
       "       marital-status         occupation   relationship   race  capital-gain  \\\n",
       "0       Never-married       Adm-clerical  Not-in-family  White          2174   \n",
       "1  Married-civ-spouse    Exec-managerial        Husband  White             0   \n",
       "2            Divorced  Handlers-cleaners  Not-in-family  White             0   \n",
       "3  Married-civ-spouse  Handlers-cleaners        Husband  Black             0   \n",
       "4  Married-civ-spouse     Prof-specialty           Wife  Black             0   \n",
       "\n",
       "   capital-loss  hours-per-week native-country   >50K  Female  \n",
       "0             0              40            ASU  False       0  \n",
       "1             0              13  setatS-detinU  False       0  \n",
       "2             0              40  setatS-detinU  False       0  \n",
       "3             0              40            ASU  False       0  \n",
       "4             0              40            ASU  False       1  "
      ]
     },
     "execution_count": 2,
     "metadata": {},
     "output_type": "execute_result"
    }
   ],
   "source": [
    "# This is the 'Census Income Data Set' downloaded from http://archive.ics.uci.edu/ml/datasets/Census+Income\n",
    "# It has been slightly modified for this task. \n",
    "# It contains various features and >30K observations labelled according to yearly income (>50K or <=50K)\n",
    "census = pd.read_csv('wage_census.csv')\n",
    "census.head()"
   ]
  },
  {
   "cell_type": "code",
   "execution_count": 3,
   "metadata": {
    "scrolled": false
   },
   "outputs": [
    {
     "name": "stdout",
     "output_type": "stream",
     "text": [
      "<class 'pandas.core.frame.DataFrame'>\n",
      "RangeIndex: 32561 entries, 0 to 32560\n",
      "Data columns (total 15 columns):\n",
      "age               32561 non-null int64\n",
      "workclass         30725 non-null object\n",
      "fnlwgt            32561 non-null int64\n",
      "education         32561 non-null object\n",
      "education-num     32561 non-null int64\n",
      "marital-status    32561 non-null object\n",
      "occupation        30718 non-null object\n",
      "relationship      32561 non-null object\n",
      "race              32561 non-null object\n",
      "capital-gain      32561 non-null int64\n",
      "capital-loss      32561 non-null int64\n",
      "hours-per-week    32561 non-null int64\n",
      "native-country    32561 non-null object\n",
      ">50K              32561 non-null bool\n",
      "Female            32561 non-null int64\n",
      "dtypes: bool(1), int64(7), object(7)\n",
      "memory usage: 3.5+ MB\n",
      "None\n"
     ]
    }
   ],
   "source": [
    "# How many records and features do we have in the dataset?\n",
    "print(census.info())\n",
    "# Are there any missing values?\n",
    "### There are 2 features with missing values: 'workclass' and 'occupation'\n",
    "# If so, how many? What would you do with them? (Dropping them for the exercise is ok in interest of time)\n",
    "census = census.drop(['workclass', 'occupation'], axis=1)"
   ]
  },
  {
   "cell_type": "code",
   "execution_count": 4,
   "metadata": {},
   "outputs": [
    {
     "name": "stdout",
     "output_type": "stream",
     "text": [
      "There are 43 unique county names \n",
      "\n",
      "['ASU' 'setatS-detinU' 'ocixeM' 'dnaliahT' 'senippilihP' 'ociR-otreuP'\n",
      " 'rodavlaS-lE' 'cilbupeR-nacinimoD' '?' 'alametauG' 'aidnI' 'ynamreG'\n",
      " 'napaJ' 'abuC' 'anihC' 'eceerG' 'ylatI' 'manteiV' 'nawiaT' 'itiaH'\n",
      " 'dnalgnE' 'dnaloP' 'adanaC' 'htuoS' 'lagutroP' 'dnaltocS' 'narI'\n",
      " 'aciamaJ' 'ureP' 'soaL' 'aibmuloC' 'sarudnoH'\n",
      " ')cte-IVSU-mauG(SU-gniyltuO' 'rodaucE' 'aivalsoguY' 'dnalerI'\n",
      " 'ogaboT&dadanirT' 'augaraciN' 'aidobmaC' 'ecnarF' 'yragnuH' 'gnoH'\n",
      " 'sdnalrehteN-dnaloH'] \n",
      "\n",
      "['USA' 'United-States' 'Mexico' 'Thailand' 'Philippines' 'Puerto-Rico'\n",
      " 'El-Salvador' 'Dominican-Republic' '?' 'Guatemala' 'India' 'Germany'\n",
      " 'Japan' 'Cuba' 'China' 'Greece' 'Italy' 'Vietnam' 'Taiwan' 'Haiti'\n",
      " 'England' 'Poland' 'Canada' 'South' 'Portugal' 'Scotland' 'Iran'\n",
      " 'Jamaica' 'Peru' 'Laos' 'Columbia' 'Honduras'\n",
      " 'Outlying-US(Guam-USVI-etc)' 'Ecuador' 'Yugoslavia' 'Ireland'\n",
      " 'Trinadad&Tobago' 'Nicaragua' 'Cambodia' 'France' 'Hungary' 'Hong'\n",
      " 'Holand-Netherlands'] \n",
      "\n"
     ]
    },
    {
     "data": {
      "text/html": [
       "<div>\n",
       "<style scoped>\n",
       "    .dataframe tbody tr th:only-of-type {\n",
       "        vertical-align: middle;\n",
       "    }\n",
       "\n",
       "    .dataframe tbody tr th {\n",
       "        vertical-align: top;\n",
       "    }\n",
       "\n",
       "    .dataframe thead th {\n",
       "        text-align: right;\n",
       "    }\n",
       "</style>\n",
       "<table border=\"1\" class=\"dataframe\">\n",
       "  <thead>\n",
       "    <tr style=\"text-align: right;\">\n",
       "      <th></th>\n",
       "      <th>Rank</th>\n",
       "      <th>Country</th>\n",
       "      <th>Occurances</th>\n",
       "    </tr>\n",
       "  </thead>\n",
       "  <tbody>\n",
       "    <tr>\n",
       "      <th>0</th>\n",
       "      <td>1</td>\n",
       "      <td>United-States</td>\n",
       "      <td>29784</td>\n",
       "    </tr>\n",
       "    <tr>\n",
       "      <th>1</th>\n",
       "      <td>2</td>\n",
       "      <td>Mexico</td>\n",
       "      <td>529</td>\n",
       "    </tr>\n",
       "    <tr>\n",
       "      <th>2</th>\n",
       "      <td>3</td>\n",
       "      <td>?</td>\n",
       "      <td>469</td>\n",
       "    </tr>\n",
       "    <tr>\n",
       "      <th>3</th>\n",
       "      <td>4</td>\n",
       "      <td>Philippines</td>\n",
       "      <td>172</td>\n",
       "    </tr>\n",
       "    <tr>\n",
       "      <th>4</th>\n",
       "      <td>5</td>\n",
       "      <td>Germany</td>\n",
       "      <td>109</td>\n",
       "    </tr>\n",
       "    <tr>\n",
       "      <th>5</th>\n",
       "      <td>6</td>\n",
       "      <td>Puerto-Rico</td>\n",
       "      <td>92</td>\n",
       "    </tr>\n",
       "    <tr>\n",
       "      <th>6</th>\n",
       "      <td>7</td>\n",
       "      <td>India</td>\n",
       "      <td>88</td>\n",
       "    </tr>\n",
       "    <tr>\n",
       "      <th>7</th>\n",
       "      <td>8</td>\n",
       "      <td>Canada</td>\n",
       "      <td>88</td>\n",
       "    </tr>\n",
       "    <tr>\n",
       "      <th>8</th>\n",
       "      <td>9</td>\n",
       "      <td>El-Salvador</td>\n",
       "      <td>88</td>\n",
       "    </tr>\n",
       "    <tr>\n",
       "      <th>9</th>\n",
       "      <td>10</td>\n",
       "      <td>Cuba</td>\n",
       "      <td>77</td>\n",
       "    </tr>\n",
       "  </tbody>\n",
       "</table>\n",
       "</div>"
      ],
      "text/plain": [
       "  Rank        Country Occurances\n",
       "0    1  United-States      29784\n",
       "1    2         Mexico        529\n",
       "2    3              ?        469\n",
       "3    4    Philippines        172\n",
       "4    5        Germany        109\n",
       "5    6    Puerto-Rico         92\n",
       "6    7          India         88\n",
       "7    8         Canada         88\n",
       "8    9    El-Salvador         88\n",
       "9   10           Cuba         77"
      ]
     },
     "execution_count": 4,
     "metadata": {},
     "output_type": "execute_result"
    }
   ],
   "source": [
    "# There is a native-country field, How many different countries are there?\n",
    "unique_countries = census['native-country'].unique()\n",
    "n_unique_countries = unique_countries.shape[0]\n",
    "print('There are ' + str(n_unique_countries) + ' unique county names', '\\n')\n",
    "print(unique_countries, '\\n')\n",
    "# Anything wrong with the country names?\n",
    "## name is reversed for all of them, some appear twice (USA, United-States)\n",
    "# Can you clean up the country names?\n",
    "census['native-country'] = census['native-country'].apply(lambda x: x[::-1])\n",
    "print(census['native-country'].unique(), '\\n')\n",
    "census['native-country'].replace(to_replace='USA', value='United-States', inplace=True)\n",
    "# Can you give a summary statistic? e.g. most common country, rank etc.\n",
    "most_common = census['native-country'].value_counts()\n",
    "rank = np.arange(1, most_common.shape[0] + 1)\n",
    "most_common_df = pd.DataFrame([rank, most_common.index, most_common]).T\n",
    "most_common_df.columns = ['Rank', 'Country', 'Occurances']\n",
    "most_common_df.head(10)"
   ]
  },
  {
   "cell_type": "code",
   "execution_count": 5,
   "metadata": {},
   "outputs": [
    {
     "data": {
      "image/png": "[encoded data removed]",
      "text/plain": [
       "<Figure size 432x720 with 1 Axes>"
      ]
     },
     "metadata": {
      "needs_background": "light"
     },
     "output_type": "display_data"
    }
   ],
   "source": [
    "# Draw a bar chart (or similar) of the '>50K' distribution per country.\n",
    "rcParams['figure.figsize'] = 6, 10\n",
    "#census.groupby('native-country')['>50K'].value_counts().unstack()\n",
    "ct = pd.crosstab(census['native-country'], census['>50K'], normalize='index')\n",
    "ct = ct.sort_values(by=1, ascending=True)\n",
    "ct.plot.barh(stacked=True, color=['red','green'])\n",
    "plt.ylabel('')\n",
    "plt.title('Portion of popultation with salary > 50k')\n",
    "plt.show()"
   ]
  },
  {
   "cell_type": "code",
   "execution_count": 6,
   "metadata": {},
   "outputs": [
    {
     "data": {
      "image/png": "[encoded data removed]",
      "text/plain": [
       "<Figure size 432x288 with 1 Axes>"
      ]
     },
     "metadata": {
      "needs_background": "light"
     },
     "output_type": "display_data"
    }
   ],
   "source": [
    "# What can you say about the correlation between 'Female' and '>50K'?\n",
    "rcParams['figure.figsize'] = 6, 4\n",
    "ct_female = pd.crosstab(census['Female'], census['>50K'], normalize='index')\n",
    "ct_female.index = ['Male', 'Female']\n",
    "ct_female.plot.bar(stacked=True, color = ['red', 'green'])\n",
    "plt.title('Male vs Female with salary > 50k')\n",
    "plt.show()\n",
    "# Is the fraction of '>50K' higher for women or for men?\n",
    "### yes: ~30% of men, and ~10% of women make more than 50k,"
   ]
  },
  {
   "cell_type": "code",
   "execution_count": 7,
   "metadata": {},
   "outputs": [
    {
     "name": "stdout",
     "output_type": "stream",
     "text": [
      "<class 'pandas.core.frame.DataFrame'>\n",
      "RangeIndex: 32561 entries, 0 to 32560\n",
      "Columns: 107 entries, age to yragnuH\n",
      "dtypes: bool(1), int64(106)\n",
      "memory usage: 26.4 MB\n"
     ]
    }
   ],
   "source": [
    "# Develop a model to predict the wage category using the given dataset.\n",
    "# How many categorical predictors do we have? How should we handle those?\n",
    "# How do you handle previously unseen categories in new observations?\n",
    "\n",
    "# Move on by loading data that is already dummy variable'd:\n",
    "census_dummies = pd.read_csv('wage_census_dummies.csv')\n",
    "census_dummies.info()"
   ]
  },
  {
   "cell_type": "code",
   "execution_count": 8,
   "metadata": {},
   "outputs": [
    {
     "name": "stdout",
     "output_type": "stream",
     "text": [
      "Logistic regression: Train score = 0.3877, Val score = 0.38782\n",
      "RF (max_features: sqrt): Train score = 0.99991, Val score = 0.67597\n",
      "RF (max_features: 10): Train score = 0.99994, Val score = 0.67473\n",
      "RF (estimators:20, max_features: 10): Train score = 0.99191, Val score = 0.66677\n"
     ]
    }
   ],
   "source": [
    "import sys\n",
    "import warnings\n",
    "if not sys.warnoptions:\n",
    "    warnings.simplefilter(\"ignore\")\n",
    "from sklearn.model_selection import train_test_split\n",
    "from sklearn.model_selection import cross_validate\n",
    "from sklearn.linear_model import LogisticRegression\n",
    "from sklearn.ensemble import RandomForestClassifier\n",
    "from sklearn.metrics import f1_score\n",
    "X = census_dummies.drop('>50K', axis=1)\n",
    "y = census_dummies[['>50K']]\n",
    "X_train, X_test, y_train, y_test = train_test_split(X, y, test_size=0.1)\n",
    "def cv10(model):\n",
    "    cv = cross_validate(model, X_train, y_train, cv=10, scoring='f1')\n",
    "    train_score = np.round(cv['train_score'].mean(), 5)\n",
    "    val_score = np.round(cv['test_score'].mean(), 5)\n",
    "    return train_score, val_score\n",
    "# Logistic Regression:\n",
    "lr = LogisticRegression()\n",
    "train_score, val_score = cv10(lr)\n",
    "print('Logistic regression: Train score = ' + str(train_score) + ', Val score = ' + str(val_score))\n",
    "# Random Forests\n",
    "rf = RandomForestClassifier(n_estimators = 100)\n",
    "train_score, val_score = cv10(rf)\n",
    "print('RF (max_features: sqrt): Train score = ' + str(train_score) + ', Val score = ' + str(val_score))\n",
    "rf = RandomForestClassifier(n_estimators = 100, max_features=10)\n",
    "train_score, val_score = cv10(rf)\n",
    "print('RF (max_features: 10): Train score = ' + str(train_score) + ', Val score = ' + str(val_score))\n",
    "rf = RandomForestClassifier(n_estimators = 20, max_features=10)\n",
    "train_score, val_score = cv10(rf)\n",
    "print('RF (estimators:20, max_features: 10): Train score = ' + str(train_score) + ', Val score = ' + str(val_score))"
   ]
  },
  {
   "cell_type": "code",
   "execution_count": 9,
   "metadata": {},
   "outputs": [
    {
     "name": "stdout",
     "output_type": "stream",
     "text": [
      "F1 score with final model: 0.62064\n"
     ]
    }
   ],
   "source": [
    "final_model = RandomForestClassifier(n_estimators = 20, max_features=10)\n",
    "final_model.fit(X_train, y_train)\n",
    "y_pred = final_model.predict(X_test)\n",
    "f1 = f1_score(y_test, y_pred)\n",
    "print('F1 score with final model: ' + str(np.round(f1, 5)))"
   ]
  },
  {
   "cell_type": "code",
   "execution_count": null,
   "metadata": {},
   "outputs": [],
   "source": [
    "# We are going to split the dataset in train/test.\n",
    "# What is a reasonable value for test_size value below for the given dataset?\n",
    "# What possibilities exist to increase the number of test observations?\n",
    "# How would you split if we had e.g. 1e6 observations available?\n"
   ]
  },
  {
   "cell_type": "code",
   "execution_count": null,
   "metadata": {},
   "outputs": [],
   "source": [
    "# Pick an ML solution that you would use for this problem.\n",
    "# Explain the solution, including pros/cons. How would you explain the chosen model to a 6 year old?\n",
    "# Train the model.\n"
   ]
  },
  {
   "cell_type": "code",
   "execution_count": null,
   "metadata": {},
   "outputs": [],
   "source": [
    "# How do you assess and visualize the performance of your model?\n",
    "# How would you do that for a regression problem?\n"
   ]
  },
  {
   "cell_type": "code",
   "execution_count": null,
   "metadata": {},
   "outputs": [],
   "source": [
    "# How can you check whether the model overfits?\n",
    "# Explain the bias/variance trade-off.\n",
    "# How do you combat overfitting?\n"
   ]
  },
  {
   "cell_type": "code",
   "execution_count": null,
   "metadata": {},
   "outputs": [],
   "source": [
    "# We received additional data with new customers and predict the income class ('>50K') with our model.\n",
    "# We want to launch a marketing campaign targeting only people with '>50K' yearly income.\n",
    "# We want to minimize the cost of the campaign by targeting the optimal sub-sample of our customer base.\n",
    "# How would you go about it?\n"
   ]
  }
 ],
 "metadata": {
  "kernelspec": {
   "display_name": "Python 3",
   "language": "python",
   "name": "python3"
  },
  "language_info": {
   "codemirror_mode": {
    "name": "ipython",
    "version": 3
   },
   "file_extension": ".py",
   "mimetype": "text/x-python",
   "name": "python",
   "nbconvert_exporter": "python",
   "pygments_lexer": "ipython3",
   "version": "3.6.6"
  }
 },
 "nbformat": 4,
 "nbformat_minor": 1
}
