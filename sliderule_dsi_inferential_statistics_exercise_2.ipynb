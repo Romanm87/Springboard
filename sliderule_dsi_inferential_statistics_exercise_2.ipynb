{
 "cells": [
  {
   "cell_type": "markdown",
   "metadata": {},
   "source": [
    "# Examining Racial Discrimination in the US Job Market\n",
    "\n",
    "### Background\n",
    "Racial discrimination continues to be pervasive in cultures throughout the world. Researchers examined the level of racial discrimination in the United States labor market by randomly assigning identical résumés to black-sounding or white-sounding names and observing the impact on requests for interviews from employers.\n",
    "\n",
    "### Data\n",
    "In the dataset provided, each row represents a resume. The 'race' column has two values, 'b' and 'w', indicating black-sounding and white-sounding. The column 'call' has two values, 1 and 0, indicating whether the resume received a call from employers or not.\n",
    "\n",
    "Note that the 'b' and 'w' values in race are assigned randomly to the resumes when presented to the employer."
   ]
  },
  {
   "cell_type": "markdown",
   "metadata": {},
   "source": [
    "### Exercises\n",
    "You will perform a statistical analysis to establish whether race has a significant impact on the rate of callbacks for resumes.\n",
    "\n",
    "Answer the following questions **in this notebook below and submit to your Github account**. \n",
    "\n",
    "   1. What test is appropriate for this problem? Does CLT apply?\n",
    "   2. What are the null and alternate hypotheses?\n",
    "   3. Compute margin of error, confidence interval, and p-value. Try using both the bootstrapping and the frequentist statistical approaches.\n",
    "   4. Write a story describing the statistical significance in the context or the original problem.\n",
    "   5. Does your analysis mean that race/name is the most important factor in callback success? Why or why not? If not, how would you amend your analysis?\n",
    "\n",
    "You can include written notes in notebook cells using Markdown: \n",
    "   - In the control panel at the top, choose Cell > Cell Type > Markdown\n",
    "   - Markdown syntax: http://nestacms.com/docs/creating-content/markdown-cheat-sheet\n",
    "\n",
    "#### Resources\n",
    "+ Experiment information and data source: http://www.povertyactionlab.org/evaluation/discrimination-job-market-united-states\n",
    "+ Scipy statistical methods: http://docs.scipy.org/doc/scipy/reference/stats.html \n",
    "+ Markdown syntax: http://nestacms.com/docs/creating-content/markdown-cheat-sheet\n",
    "+ Formulas for the Bernoulli distribution: https://en.wikipedia.org/wiki/Bernoulli_distribution"
   ]
  },
  {
   "cell_type": "code",
   "execution_count": 1,
   "metadata": {},
   "outputs": [],
   "source": [
    "import pandas as pd\n",
    "import numpy as np\n",
    "from scipy import stats\n",
    "import matplotlib.pyplot as plt\n",
    "import seaborn as sns\n",
    "from pylab import rcParams"
   ]
  },
  {
   "cell_type": "code",
   "execution_count": 2,
   "metadata": {},
   "outputs": [],
   "source": [
    "data = pd.io.stata.read_stata\\\n",
    "('/home/roman/Documents/Projects/Springboard/8.3 EDA/EDA_racial_discrimination/data/us_job_market_discrimination.dta')"
   ]
  },
  {
   "cell_type": "code",
   "execution_count": 3,
   "metadata": {},
   "outputs": [
    {
     "data": {
      "text/plain": [
       "235.0"
      ]
     },
     "execution_count": 3,
     "metadata": {},
     "output_type": "execute_result"
    }
   ],
   "source": [
    "# number of callbacks for black-sounding names\n",
    "sum(data[data.race=='w']['call'])"
   ]
  },
  {
   "cell_type": "code",
   "execution_count": 4,
   "metadata": {},
   "outputs": [
    {
     "data": {
      "text/html": [
       "<div>\n",
       "<style scoped>\n",
       "    .dataframe tbody tr th:only-of-type {\n",
       "        vertical-align: middle;\n",
       "    }\n",
       "\n",
       "    .dataframe tbody tr th {\n",
       "        vertical-align: top;\n",
       "    }\n",
       "\n",
       "    .dataframe thead th {\n",
       "        text-align: right;\n",
       "    }\n",
       "</style>\n",
       "<table border=\"1\" class=\"dataframe\">\n",
       "  <thead>\n",
       "    <tr style=\"text-align: right;\">\n",
       "      <th></th>\n",
       "      <th>id</th>\n",
       "      <th>ad</th>\n",
       "      <th>education</th>\n",
       "      <th>ofjobs</th>\n",
       "      <th>yearsexp</th>\n",
       "      <th>honors</th>\n",
       "      <th>volunteer</th>\n",
       "      <th>military</th>\n",
       "      <th>empholes</th>\n",
       "      <th>occupspecific</th>\n",
       "      <th>...</th>\n",
       "      <th>compreq</th>\n",
       "      <th>orgreq</th>\n",
       "      <th>manuf</th>\n",
       "      <th>transcom</th>\n",
       "      <th>bankreal</th>\n",
       "      <th>trade</th>\n",
       "      <th>busservice</th>\n",
       "      <th>othservice</th>\n",
       "      <th>missind</th>\n",
       "      <th>ownership</th>\n",
       "    </tr>\n",
       "  </thead>\n",
       "  <tbody>\n",
       "    <tr>\n",
       "      <th>0</th>\n",
       "      <td>b</td>\n",
       "      <td>1</td>\n",
       "      <td>4</td>\n",
       "      <td>2</td>\n",
       "      <td>6</td>\n",
       "      <td>0</td>\n",
       "      <td>0</td>\n",
       "      <td>0</td>\n",
       "      <td>1</td>\n",
       "      <td>17</td>\n",
       "      <td>...</td>\n",
       "      <td>1.0</td>\n",
       "      <td>0.0</td>\n",
       "      <td>1.0</td>\n",
       "      <td>0.0</td>\n",
       "      <td>0.0</td>\n",
       "      <td>0.0</td>\n",
       "      <td>0.0</td>\n",
       "      <td>0.0</td>\n",
       "      <td>0.0</td>\n",
       "      <td></td>\n",
       "    </tr>\n",
       "    <tr>\n",
       "      <th>1</th>\n",
       "      <td>b</td>\n",
       "      <td>1</td>\n",
       "      <td>3</td>\n",
       "      <td>3</td>\n",
       "      <td>6</td>\n",
       "      <td>0</td>\n",
       "      <td>1</td>\n",
       "      <td>1</td>\n",
       "      <td>0</td>\n",
       "      <td>316</td>\n",
       "      <td>...</td>\n",
       "      <td>1.0</td>\n",
       "      <td>0.0</td>\n",
       "      <td>1.0</td>\n",
       "      <td>0.0</td>\n",
       "      <td>0.0</td>\n",
       "      <td>0.0</td>\n",
       "      <td>0.0</td>\n",
       "      <td>0.0</td>\n",
       "      <td>0.0</td>\n",
       "      <td></td>\n",
       "    </tr>\n",
       "    <tr>\n",
       "      <th>2</th>\n",
       "      <td>b</td>\n",
       "      <td>1</td>\n",
       "      <td>4</td>\n",
       "      <td>1</td>\n",
       "      <td>6</td>\n",
       "      <td>0</td>\n",
       "      <td>0</td>\n",
       "      <td>0</td>\n",
       "      <td>0</td>\n",
       "      <td>19</td>\n",
       "      <td>...</td>\n",
       "      <td>1.0</td>\n",
       "      <td>0.0</td>\n",
       "      <td>1.0</td>\n",
       "      <td>0.0</td>\n",
       "      <td>0.0</td>\n",
       "      <td>0.0</td>\n",
       "      <td>0.0</td>\n",
       "      <td>0.0</td>\n",
       "      <td>0.0</td>\n",
       "      <td></td>\n",
       "    </tr>\n",
       "    <tr>\n",
       "      <th>3</th>\n",
       "      <td>b</td>\n",
       "      <td>1</td>\n",
       "      <td>3</td>\n",
       "      <td>4</td>\n",
       "      <td>6</td>\n",
       "      <td>0</td>\n",
       "      <td>1</td>\n",
       "      <td>0</td>\n",
       "      <td>1</td>\n",
       "      <td>313</td>\n",
       "      <td>...</td>\n",
       "      <td>1.0</td>\n",
       "      <td>0.0</td>\n",
       "      <td>1.0</td>\n",
       "      <td>0.0</td>\n",
       "      <td>0.0</td>\n",
       "      <td>0.0</td>\n",
       "      <td>0.0</td>\n",
       "      <td>0.0</td>\n",
       "      <td>0.0</td>\n",
       "      <td></td>\n",
       "    </tr>\n",
       "    <tr>\n",
       "      <th>4</th>\n",
       "      <td>b</td>\n",
       "      <td>1</td>\n",
       "      <td>3</td>\n",
       "      <td>3</td>\n",
       "      <td>22</td>\n",
       "      <td>0</td>\n",
       "      <td>0</td>\n",
       "      <td>0</td>\n",
       "      <td>0</td>\n",
       "      <td>313</td>\n",
       "      <td>...</td>\n",
       "      <td>1.0</td>\n",
       "      <td>1.0</td>\n",
       "      <td>0.0</td>\n",
       "      <td>0.0</td>\n",
       "      <td>0.0</td>\n",
       "      <td>0.0</td>\n",
       "      <td>0.0</td>\n",
       "      <td>1.0</td>\n",
       "      <td>0.0</td>\n",
       "      <td>Nonprofit</td>\n",
       "    </tr>\n",
       "  </tbody>\n",
       "</table>\n",
       "<p>5 rows × 65 columns</p>\n",
       "</div>"
      ],
      "text/plain": [
       "  id ad  education  ofjobs  yearsexp  honors  volunteer  military  empholes  \\\n",
       "0  b  1          4       2         6       0          0         0         1   \n",
       "1  b  1          3       3         6       0          1         1         0   \n",
       "2  b  1          4       1         6       0          0         0         0   \n",
       "3  b  1          3       4         6       0          1         0         1   \n",
       "4  b  1          3       3        22       0          0         0         0   \n",
       "\n",
       "   occupspecific    ...      compreq  orgreq  manuf  transcom  bankreal trade  \\\n",
       "0             17    ...          1.0     0.0    1.0       0.0       0.0   0.0   \n",
       "1            316    ...          1.0     0.0    1.0       0.0       0.0   0.0   \n",
       "2             19    ...          1.0     0.0    1.0       0.0       0.0   0.0   \n",
       "3            313    ...          1.0     0.0    1.0       0.0       0.0   0.0   \n",
       "4            313    ...          1.0     1.0    0.0       0.0       0.0   0.0   \n",
       "\n",
       "  busservice othservice  missind  ownership  \n",
       "0        0.0        0.0      0.0             \n",
       "1        0.0        0.0      0.0             \n",
       "2        0.0        0.0      0.0             \n",
       "3        0.0        0.0      0.0             \n",
       "4        0.0        1.0      0.0  Nonprofit  \n",
       "\n",
       "[5 rows x 65 columns]"
      ]
     },
     "execution_count": 4,
     "metadata": {},
     "output_type": "execute_result"
    }
   ],
   "source": [
    "data.head()"
   ]
  },
  {
   "cell_type": "markdown",
   "metadata": {},
   "source": [
    "#### 1. What test is appropriate for this problem? Does CLT apply?"
   ]
  },
  {
   "cell_type": "code",
   "execution_count": 5,
   "metadata": {},
   "outputs": [
    {
     "name": "stdout",
     "output_type": "stream",
     "text": [
      "black: percentage callbacks: 6.45%, number of callbacks: 157, number of cases: 2435\n",
      "white: percentage callbacks: 9.65%, number of callbacks: 235, number of cases: 2435\n"
     ]
    }
   ],
   "source": [
    "n_b = len(data[data.race=='b']['call'])\n",
    "c_b = sum(data[data.race=='b']['call'])\n",
    "p_b = c_b / n_b\n",
    "n_w = len(data[data.race=='w']['call'])\n",
    "c_w = sum(data[data.race=='w']['call'])\n",
    "p_w = c_w / n_w\n",
    "print('black: percentage callbacks: ' + str(round(100 * p_b, 2)) + '%, number of callbacks: ' + \\\n",
    "      str(int(c_b)) + ', number of cases: ' + str(n_b))\n",
    "print('white: percentage callbacks: ' + str(round(100 * p_w, 2)) + '%, number of callbacks: ' + \\\n",
    "      str(int(c_w)) + ', number of cases: ' + str(n_w))"
   ]
  },
  {
   "cell_type": "markdown",
   "metadata": {},
   "source": [
    "CLT applies because the number of trials is large enough (>30) and the number of expeced poitive and negative trials is each expected to be greater than 10. Due to the large sample size the binomial distribution can be approximated with the normal distribution. A two-sample z-test is therefore appropriate. "
   ]
  },
  {
   "cell_type": "markdown",
   "metadata": {},
   "source": [
    "#### 2. What are the null and alternate hypotheses?\n",
    "(\"blacks\" and \"whites\" refer to \"black sounding names\" and \"white sounding names\", respectively)\n",
    "- Null hypothesis: the proportion of callbacks for blacks and whites is equal: H_0: p_w = p_b\n",
    "- Alternative hypothesis: the proportion of callbacks for whites is higher than the on for blacks: H_A: p_w > p_b"
   ]
  },
  {
   "cell_type": "markdown",
   "metadata": {},
   "source": [
    "#### 3. Compute margin of error, confidence interval, and p-value. Try using both the bootstrapping and the frequentist statistical approaches."
   ]
  },
  {
   "cell_type": "code",
   "execution_count": 6,
   "metadata": {},
   "outputs": [],
   "source": [
    "w = data[data.race=='w']\n",
    "b = data[data.race=='b']\n",
    "##### Bootstrapping method:\n",
    "diff_act = np.float64(c_w - c_b)\n",
    "diff_perm = []\n",
    "for _ in range(100000):\n",
    "    call_perm = np.random.permutation(data['call'])\n",
    "    w_perm = call_perm[:len(w)]\n",
    "    b_perm = call_perm[len(w):]\n",
    "    diff_perm.append(sum(w_perm) - sum(b_perm))"
   ]
  },
  {
   "cell_type": "code",
   "execution_count": 7,
   "metadata": {},
   "outputs": [
    {
     "data": {
      "image/png": "[encoded data removed]",
      "text/plain": [
       "<Figure size 1080x288 with 2 Axes>"
      ]
     },
     "metadata": {
      "needs_background": "light"
     },
     "output_type": "display_data"
    },
    {
     "name": "stdout",
     "output_type": "stream",
     "text": [
      "Actual difference callbacks white - callbacks black: 78.0\n",
      "95% CI permutation method: [-36.  38.]\n",
      "P-value permutation method: 1e-05\n"
     ]
    }
   ],
   "source": [
    "def ecdf(data):\n",
    "    x = np.sort(data)\n",
    "    y = np.arange(1, len(data)+1) / len(data)\n",
    "    return x, y\n",
    "x, y = ecdf(diff_perm)\n",
    "rcParams['figure.figsize'] = 15, 4\n",
    "plt.subplot(1,2,1)\n",
    "plt.hist(diff_perm, bins=20, rwidth=0.9, density=True)\n",
    "plt.axvline(diff_act, color='red')\n",
    "plt.title('Hist: Difference callbacks for whites - callbacks for blacks')\n",
    "plt.legend(['actual difference', 'simulated difference'])\n",
    "plt.xlabel('difference')\n",
    "plt.subplot(1,2,2)\n",
    "plt.plot(x, y, marker='.', linestyle='none')\n",
    "plt.axvline(diff_act, color='red')\n",
    "plt.grid()\n",
    "plt.title('ECDF: Difference callbacks for whites - callbacks for blacks')\n",
    "plt.legend(['actual difference', 'simulated difference'])\n",
    "plt.xlabel('difference')\n",
    "plt.show()\n",
    "p_perm = sum(diff_perm > diff_act) / len(diff_perm)\n",
    "print('Actual difference callbacks white - callbacks black: ' + str(diff_act))\n",
    "print('95% CI permutation method: ' + str(np.percentile(diff_perm, [2.5, 97.5])))\n",
    "print('P-value permutation method: ' + str(p_perm))"
   ]
  },
  {
   "cell_type": "code",
   "execution_count": 8,
   "metadata": {},
   "outputs": [
    {
     "name": "stdout",
     "output_type": "stream",
     "text": [
      "Actual difference callbacks white - callbacks black: 78.0\n",
      "95% CI Z-test: [-37.14691446197348, 37.14691446197348]\n",
      "P-value Z-test: 1.9312826037620745e-05\n"
     ]
    }
   ],
   "source": [
    "##### Z-test\n",
    "sigma = np.sqrt((n_w * p_w * (1 - p_w)) + (n_b * p_b * (1 - p_b)))\n",
    "diff_H_0 = 0\n",
    "z = ((c_w - c_b) - diff_H_0) / sigma\n",
    "p_ztest = 1 - stats.norm.cdf(z)\n",
    "h = 1.96 * sigma\n",
    "print('Actual difference callbacks white - callbacks black: ' + str(diff_act))\n",
    "print('95% CI Z-test: ' + str([-h, h]))\n",
    "print('P-value Z-test: ' + str(p_ztest))"
   ]
  },
  {
   "cell_type": "markdown",
   "metadata": {},
   "source": [
    "#### 4. Write a story describing the statistical significance in the context or the original problem.\n",
    "The P-value of the permuation as well as the z-test suggest that race has a highly significant impact on the rate of callbacks for resumes. To not reject the null hypothesis that the number of callback is equal between both groups, the difference should be between -38 and 38. However, people with white sounding names received 78 more callbacks than people with black sounding names. The P-value of 1.9e-5 in the Z-test suggests that only in 1 out of approximately 193,000 samples the difference between white and black callbacks should be that large. Since we only ran 100000 samples for the permutation test, it is not surprising that there was no example of a difference higher than 78.\n",
    "\n",
    "Also important to note is that this result does not necessarily mean that decisions were made based on race. There are several other attributes may have an influence on the decision on whether an applicant is being called back or not. It could for example be that the level of education is highly correlated with the categorical distinction of whites vs blacks and that the decisions were made based on education level rather than race. If that were the case, other studies, such as if blacks have less access to good education, should be conducted.\n",
    "\n",
    "#### 5. Does your analysis mean that race/name is the most important factor in callback success? Why or why not? If not, how would you amend your analysis?\n",
    "To investigate which factor was most important when deciding whether a candidate gets called back, I conduct a correlation analysis. (Note that some cateorical attributes such as 'city' have been excluded from this analysis)"
   ]
  },
  {
   "cell_type": "code",
   "execution_count": 9,
   "metadata": {},
   "outputs": [],
   "source": [
    "##### Investigate correlation - create dummy variables for race and sex \n",
    "df_dummies_race = pd.get_dummies(data['race']).iloc[:, -1]\n",
    "df_dummies_sex = pd.get_dummies(data['sex']).iloc[:, -1]\n",
    "del data['race']\n",
    "del data['sex']\n",
    "data_new = pd.concat([data, df_dummies_race, df_dummies_sex], axis=1)\n",
    "new_columns = data_new.columns.values\n",
    "new_columns[-2] = 'race'\n",
    "new_columns[-1] = 'sex'\n",
    "data_new.columns = new_columns"
   ]
  },
  {
   "cell_type": "code",
   "execution_count": 155,
   "metadata": {},
   "outputs": [
    {
     "data": {
      "text/plain": [
       "call                  1.000000\n",
       "specialskills         0.111074\n",
       "honors                0.071951\n",
       "empholes              0.071888\n",
       "adid                  0.063178\n",
       "yearsexp              0.061436\n",
       "race                  0.058872\n",
       "linc                  0.049649\n",
       "offsupport            0.047783\n",
       "lmedhhinc             0.047699\n",
       "fraccolp              0.047016\n",
       "occupspecific         0.040548\n",
       "parent_emp            0.039060\n",
       "othservice            0.036114\n",
       "transcom              0.035558\n",
       "fracwhite             0.035148\n",
       "occupbroad            0.034536\n",
       "fraccolp_empzip       0.026118\n",
       "email                 0.025880\n",
       "h                     0.025835\n",
       "fed                   0.014471\n",
       "fracdropout_empzip    0.013951\n",
       "fracblack_empzip      0.009882\n",
       "parent_sales          0.008430\n",
       "volunteer             0.007197\n",
       "linc_empzip           0.006883\n",
       "busservice            0.006882\n",
       "secretary             0.004038\n",
       "eoe                   0.003092\n",
       "comreq                0.002421\n",
       "retailsales           0.002336\n",
       "ofjobs                0.002311\n",
       "education            -0.005748\n",
       "missind              -0.007555\n",
       "col                  -0.008479\n",
       "bankreal             -0.008996\n",
       "supervisor           -0.012061\n",
       "sex                  -0.013388\n",
       "expreq               -0.019250\n",
       "manager              -0.020269\n",
       "military             -0.020577\n",
       "salesrep             -0.021584\n",
       "trade                -0.021853\n",
       "fracblack            -0.022130\n",
       "compreq              -0.024907\n",
       "l                    -0.025835\n",
       "branch_emp           -0.026909\n",
       "workinschool         -0.027888\n",
       "manuf                -0.028785\n",
       "computerskills       -0.028813\n",
       "branch_sales         -0.029126\n",
       "fracwhite_empzip     -0.032989\n",
       "orgreq               -0.033416\n",
       "educreq              -0.033864\n",
       "req                  -0.041699\n",
       "lmedhhinc_empzip     -0.049879\n",
       "fracdropout          -0.056671\n",
       "Name: call, dtype: float64"
      ]
     },
     "execution_count": 155,
     "metadata": {},
     "output_type": "execute_result"
    }
   ],
   "source": [
    "data_new.corr()['call'].sort_values(ascending=False)"
   ]
  },
  {
   "cell_type": "markdown",
   "metadata": {},
   "source": [
    "The correlation analysis suggests that special skills and honors have the strongest correlations with call and are therefore the most important features. Race seems to be the seventh most important factor."
   ]
  }
 ],
 "metadata": {
  "kernelspec": {
   "display_name": "Python 3",
   "language": "python",
   "name": "python3"
  },
  "language_info": {
   "codemirror_mode": {
    "name": "ipython",
    "version": 3
   },
   "file_extension": ".py",
   "mimetype": "text/x-python",
   "name": "python",
   "nbconvert_exporter": "python",
   "pygments_lexer": "ipython3",
   "version": "3.6.6"
  }
 },
 "nbformat": 4,
 "nbformat_minor": 1
}
